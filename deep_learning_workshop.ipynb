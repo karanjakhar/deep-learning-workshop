{
  "nbformat": 4,
  "nbformat_minor": 0,
  "metadata": {
    "colab": {
      "name": "deep learning workshop",
      "version": "0.3.2",
      "provenance": [],
      "collapsed_sections": []
    },
    "kernelspec": {
      "name": "python3",
      "display_name": "Python 3"
    },
    "accelerator": "GPU"
  },
  "cells": [
    {
      "cell_type": "markdown",
      "metadata": {
        "id": "AQInBRFs_Uz3",
        "colab_type": "text"
      },
      "source": [
        "<h1>Digit Recognizer</h1>"
      ]
    },
    {
      "cell_type": "markdown",
      "metadata": {
        "id": "iv4XM04J_b6W",
        "colab_type": "text"
      },
      "source": [
        "Loading the required libraries"
      ]
    },
    {
      "cell_type": "code",
      "metadata": {
        "id": "uyjYcHhhmtxx",
        "colab_type": "code",
        "colab": {}
      },
      "source": [
        "from keras.layers import Dense, Flatten, Dropout, MaxPooling2D, Conv2D\n",
        "from keras.models import Sequential\n",
        "from keras.datasets.mnist import load_data\n",
        "from keras.utils import to_categorical\n",
        "import matplotlib.pyplot as plt\n",
        "from sklearn.metrics import accuracy_score\n",
        "import numpy as np"
      ],
      "execution_count": 0,
      "outputs": []
    },
    {
      "cell_type": "code",
      "metadata": {
        "id": "9HHiLl4mnAzu",
        "colab_type": "code",
        "colab": {}
      },
      "source": [
        "#loading dataset \n",
        "(x_train,y_train),(x_test,y_test) = load_data()"
      ],
      "execution_count": 0,
      "outputs": []
    },
    {
      "cell_type": "code",
      "metadata": {
        "id": "iyjvVuyCo4UI",
        "colab_type": "code",
        "colab": {}
      },
      "source": [
        "#variable values\n",
        "img_shape = (28,28,1)\n",
        "num_classes = 10"
      ],
      "execution_count": 0,
      "outputs": []
    },
    {
      "cell_type": "markdown",
      "metadata": {
        "id": "eJPmytZR_jI-",
        "colab_type": "text"
      },
      "source": [
        "Building model with the full connected layers "
      ]
    },
    {
      "cell_type": "code",
      "metadata": {
        "id": "FiZmpmv6uq6a",
        "colab_type": "code",
        "colab": {}
      },
      "source": [
        "def build_dense_model():\n",
        "  model = Sequential()\n",
        "  model.add(Dense(64,activation = 'relu',input_shape = (28*28,)))\n",
        "  model.add(Dense(64,activation = 'relu'))\n",
        "  model.add(Dropout(0.45))\n",
        "  model.add(Dense(num_classes,activation = 'softmax'))\n",
        "  model.compile(optimizer='adam', loss='categorical_crossentropy', metrics=['acc'])\n",
        "  model.summary()\n",
        "  return model"
      ],
      "execution_count": 0,
      "outputs": []
    },
    {
      "cell_type": "markdown",
      "metadata": {
        "id": "Ae3n0rx6_t2f",
        "colab_type": "text"
      },
      "source": [
        "Building the model with CNN"
      ]
    },
    {
      "cell_type": "code",
      "metadata": {
        "id": "mm7bYf-Yonqo",
        "colab_type": "code",
        "colab": {}
      },
      "source": [
        "def build_cnn_model():\n",
        "    \n",
        "    model = Sequential()\n",
        "    model.add(Conv2D(64, kernel_size=(3,3), activation='relu',\n",
        "                    input_shape=img_shape))\n",
        "    model.add(MaxPooling2D(pool_size=(2,2)))\n",
        "    model.add(Conv2D(64, kernel_size=(3,3), activation='relu'))\n",
        "    model.add(MaxPooling2D(pool_size=(2,2)))\n",
        "    model.add(Flatten())\n",
        "    model.add(Dropout(0.45))\n",
        "    # output is softmax for 10 classes\n",
        "    model.add(Dense(num_classes, activation='softmax'))\n",
        "    \n",
        "    model.compile(optimizer='adam', loss='categorical_crossentropy', metrics=['acc'])\n",
        "    model.summary()\n",
        "    return model"
      ],
      "execution_count": 0,
      "outputs": []
    },
    {
      "cell_type": "code",
      "metadata": {
        "id": "awqHgJeMrhgb",
        "colab_type": "code",
        "colab": {}
      },
      "source": [
        "#let's check the shape of the data\n",
        "print(x_train.shape)\n",
        "print(y_train.shape)\n",
        "print(x_test.shape)\n",
        "print(y_test.shape)"
      ],
      "execution_count": 0,
      "outputs": []
    },
    {
      "cell_type": "code",
      "metadata": {
        "id": "LZuwbwZ2r4LX",
        "colab_type": "code",
        "colab": {}
      },
      "source": [
        "#Image from training data \n",
        "plt.imshow(x_train[0], cmap = 'gray')\n",
        "plt.title(\"Label:\"+str(y_train[0]),fontsize = 40)\n",
        "plt.show()"
      ],
      "execution_count": 0,
      "outputs": []
    },
    {
      "cell_type": "code",
      "metadata": {
        "id": "u66qWmD6rtnH",
        "colab_type": "code",
        "colab": {}
      },
      "source": [
        "#Image from test data\n",
        "plt.imshow(x_test[0], cmap = 'gray')\n",
        "plt.title(\"Label:\"+str(y_test[0]),fontsize = 40)\n",
        "plt.show()"
      ],
      "execution_count": 0,
      "outputs": []
    },
    {
      "cell_type": "code",
      "metadata": {
        "id": "AvwWhV3Ctap1",
        "colab_type": "code",
        "colab": {}
      },
      "source": [
        "max(x_train[0].flatten())"
      ],
      "execution_count": 0,
      "outputs": []
    },
    {
      "cell_type": "code",
      "metadata": {
        "id": "9pA7odyDtRtz",
        "colab_type": "code",
        "colab": {}
      },
      "source": [
        "#normalisation\n",
        "x_train = x_train/255.0\n",
        "x_test  = x_test/255.0"
      ],
      "execution_count": 0,
      "outputs": []
    },
    {
      "cell_type": "code",
      "metadata": {
        "id": "C_kv5sDmt8MF",
        "colab_type": "code",
        "colab": {}
      },
      "source": [
        "#processing label \n",
        "y_train = to_categorical(y_train) "
      ],
      "execution_count": 0,
      "outputs": []
    },
    {
      "cell_type": "code",
      "metadata": {
        "id": "Tfel-R3Jvxr8",
        "colab_type": "code",
        "colab": {}
      },
      "source": [
        "#reshape images for dense model\n",
        "x_train = x_train.reshape(-1,28*28)\n",
        "x_test  = x_test.reshape(-1,28*28)"
      ],
      "execution_count": 0,
      "outputs": []
    },
    {
      "cell_type": "code",
      "metadata": {
        "id": "zobWCOT_t6JC",
        "colab_type": "code",
        "colab": {}
      },
      "source": [
        "dense_model = build_dense_model()"
      ],
      "execution_count": 0,
      "outputs": []
    },
    {
      "cell_type": "code",
      "metadata": {
        "id": "6uVhTLBSvtP6",
        "colab_type": "code",
        "colab": {}
      },
      "source": [
        "#training full connected model\n",
        "dense_model.fit(x_train,y_train,validation_split = 0.2,epochs = 10,batch_size = 16)"
      ],
      "execution_count": 0,
      "outputs": []
    },
    {
      "cell_type": "code",
      "metadata": {
        "id": "2bXPG8JpDw3X",
        "colab_type": "code",
        "colab": {}
      },
      "source": [
        "#convert back from one hot encoding\n",
        "y_preds = np.argmax(dense_model.predict(x_test),axis = 1)"
      ],
      "execution_count": 0,
      "outputs": []
    },
    {
      "cell_type": "code",
      "metadata": {
        "id": "Lsjc6JuFDMkk",
        "colab_type": "code",
        "colab": {}
      },
      "source": [
        "#let's test the performance of the model on test data\n",
        "print('Fully connected model accuracy on test data:',accuracy_score(y_test,y_preds))"
      ],
      "execution_count": 0,
      "outputs": []
    },
    {
      "cell_type": "code",
      "metadata": {
        "id": "5ZGR3DJgto9M",
        "colab_type": "code",
        "colab": {}
      },
      "source": [
        "#reshape for cnn model\n",
        "x_train = x_train.reshape(-1,28,28,1)\n",
        "x_test = x_test.reshape(-1,28,28,1)"
      ],
      "execution_count": 0,
      "outputs": []
    },
    {
      "cell_type": "code",
      "metadata": {
        "id": "ljTtMalTpTac",
        "colab_type": "code",
        "colab": {}
      },
      "source": [
        "cnn_model = build_cnn_model()"
      ],
      "execution_count": 0,
      "outputs": []
    },
    {
      "cell_type": "code",
      "metadata": {
        "id": "lw6XpC7SpZx5",
        "colab_type": "code",
        "colab": {}
      },
      "source": [
        "#training cnn model\n",
        "cnn_model.fit(x_train,y_train,validation_split = 0.2,epochs = 10,batch_size = 16)  "
      ],
      "execution_count": 0,
      "outputs": []
    },
    {
      "cell_type": "code",
      "metadata": {
        "id": "WkNOxDIeAWEN",
        "colab_type": "code",
        "colab": {}
      },
      "source": [
        "y_preds = np.argmax(cnn_model.predict(x_test),axis = 1)"
      ],
      "execution_count": 0,
      "outputs": []
    },
    {
      "cell_type": "code",
      "metadata": {
        "id": "3WWPfDhYOZMS",
        "colab_type": "code",
        "colab": {}
      },
      "source": [
        "cnn_model.predict(x_test)"
      ],
      "execution_count": 0,
      "outputs": []
    },
    {
      "cell_type": "code",
      "metadata": {
        "id": "Xr_zXKbBFIVN",
        "colab_type": "code",
        "outputId": "429b035d-079b-4937-cd6d-7757e8b57dd9",
        "colab": {
          "base_uri": "https://localhost:8080/",
          "height": 35
        }
      },
      "source": [
        "y_preds"
      ],
      "execution_count": 0,
      "outputs": [
        {
          "output_type": "execute_result",
          "data": {
            "text/plain": [
              "array([7, 2, 1, ..., 4, 5, 6])"
            ]
          },
          "metadata": {
            "tags": []
          },
          "execution_count": 22
        }
      ]
    },
    {
      "cell_type": "code",
      "metadata": {
        "id": "1KqDoWCTE2QO",
        "colab_type": "code",
        "outputId": "b36f3b68-7bcc-4b36-ccb2-e4f2f96d29cb",
        "colab": {
          "base_uri": "https://localhost:8080/",
          "height": 35
        }
      },
      "source": [
        "print('CNN model accuracy on test data:',accuracy_score(y_test,y_preds))"
      ],
      "execution_count": 0,
      "outputs": [
        {
          "output_type": "stream",
          "text": [
            "CNN model accuracy on test data: 0.9923\n"
          ],
          "name": "stdout"
        }
      ]
    },
    {
      "cell_type": "markdown",
      "metadata": {
        "id": "nvDg0BiRFBHK",
        "colab_type": "text"
      },
      "source": [
        "# **Thank You**"
      ]
    }
  ]
}